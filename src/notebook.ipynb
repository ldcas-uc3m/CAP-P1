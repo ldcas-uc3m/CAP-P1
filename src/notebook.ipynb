{
 "cells": [
  {
   "cell_type": "markdown",
   "id": "ac250a4d",
   "metadata": {
    "id": "ac250a4d"
   },
   "source": [
    "# Práctica 1: Procesamiento de datos mediante Apache Spark\n",
    "By Luis Daniel Casais Mezquida, Lucas Gallego Bravo, Francisco Montañés de Lucas & Diego Picazo García  \n",
    "\n",
    "Computación de Altas Prestaciones 24/25  \n",
    "Máster en Ingeniería Informática, Universidad Carlos III de Madrid"
   ]
  },
  {
   "cell_type": "markdown",
   "id": "67008b72",
   "metadata": {
    "id": "67008b72"
   },
   "source": [
    "## Setup"
   ]
  },
  {
   "cell_type": "markdown",
   "id": "f6e6133d",
   "metadata": {
    "id": "f6e6133d"
   },
   "source": [
    "### Pyspark"
   ]
  },
  {
   "cell_type": "code",
   "execution_count": 5,
   "id": "0abe4add-b05f-4019-8ec4-718ea3c77c00",
   "metadata": {
    "colab": {
     "base_uri": "https://localhost:8080/"
    },
    "id": "0abe4add-b05f-4019-8ec4-718ea3c77c00",
    "outputId": "7a15e9ff-d5e8-48a9-8b3d-62c22ddc9c23"
   },
   "outputs": [
    {
     "name": "stdout",
     "output_type": "stream",
     "text": [
      "Requirement already satisfied: psutil in /opt/conda/lib/python3.12/site-packages (6.1.0)\n",
      "Your runtime has 33.6 GiB of RAM, 2 cores\n"
     ]
    }
   ],
   "source": [
    "from pyspark.sql import SparkSession\n",
    "from pyspark import SparkContext, SparkConf\n",
    "from pyspark.sql.functions import unix_timestamp, col, to_utc_timestamp, from_utc_timestamp, when, try_divide, asc, desc\n",
    "\n",
    "\n",
    "\n",
    "spark = SparkSession.builder.master('local[2]').getOrCreate()\n",
    "#spark.conf.set('spark.cores.max', '2')\n",
    "#spark.conf.set('spark.driver.memory','1000M')\n",
    "\n",
    "sc = spark.sparkContext\n",
    "\n",
    "!pip install psutil\n",
    "from psutil import virtual_memory\n",
    "print(f\"Your runtime has {virtual_memory().total / 1e9:.1f} GiB of RAM, {spark.sparkContext.defaultParallelism} cores\")"
   ]
  },
  {
   "cell_type": "markdown",
   "id": "gG6_G0ly2N9a",
   "metadata": {
    "id": "gG6_G0ly2N9a"
   },
   "source": [
    "### Import libraries"
   ]
  },
  {
   "cell_type": "code",
   "execution_count": 6,
   "id": "RihpaP_q2UU4",
   "metadata": {
    "id": "RihpaP_q2UU4"
   },
   "outputs": [],
   "source": [
    "from datetime import datetime\n",
    "import matplotlib.pyplot as plt\n",
    "from time import perf_counter"
   ]
  },
  {
   "cell_type": "markdown",
   "id": "d8e86f33",
   "metadata": {
    "id": "d8e86f33"
   },
   "source": [
    "#### Download data"
   ]
  },
  {
   "cell_type": "code",
   "execution_count": 22,
   "id": "c0fc7da5",
   "metadata": {
    "colab": {
     "base_uri": "https://localhost:8080/"
    },
    "id": "c0fc7da5",
    "outputId": "88b8fc90-93d5-453a-add8-90c55eaca0fe"
   },
   "outputs": [
    {
     "name": "stdout",
     "output_type": "stream",
     "text": [
      "/home/jovyan/src\n",
      "--2024-10-30 14:32:08--  https://d37ci6vzurychx.cloudfront.net/misc/taxi_zone_lookup.csv\n",
      "Resolving d37ci6vzurychx.cloudfront.net (d37ci6vzurychx.cloudfront.net)... 3.160.226.85, 3.160.226.111, 3.160.226.161, ...\n",
      "Connecting to d37ci6vzurychx.cloudfront.net (d37ci6vzurychx.cloudfront.net)|3.160.226.85|:443... connected.\n",
      "HTTP request sent, awaiting response... 200 OK\n",
      "Length: 12331 (12K) [text/csv]\n",
      "Saving to: ‘../data/taxi_zone_lookup.csv’\n",
      "\n",
      "../data/taxi_zone_l 100%[===================>]  12.04K  --.-KB/s    in 0s      \n",
      "\n",
      "2024-10-30 14:32:08 (456 MB/s) - ‘../data/taxi_zone_lookup.csv’ saved [12331/12331]\n",
      "\n",
      "--2024-10-30 14:32:09--  https://d37ci6vzurychx.cloudfront.net/trip-data/yellow_tripdata_2024-07.parquet\n",
      "Resolving d37ci6vzurychx.cloudfront.net (d37ci6vzurychx.cloudfront.net)... 3.160.226.85, 3.160.226.228, 3.160.226.161, ...\n",
      "Connecting to d37ci6vzurychx.cloudfront.net (d37ci6vzurychx.cloudfront.net)|3.160.226.85|:443... connected.\n",
      "HTTP request sent, awaiting response... 200 OK\n",
      "Length: 52299432 (50M) [binary/octet-stream]\n",
      "Saving to: ‘../data/yellow_tripdata_2024-07.parquet’\n",
      "\n",
      "../data/yellow_trip 100%[===================>]  49.88M  13.6MB/s    in 4.2s    \n",
      "\n",
      "2024-10-30 14:32:13 (11.8 MB/s) - ‘../data/yellow_tripdata_2024-07.parquet’ saved [52299432/52299432]\n",
      "\n"
     ]
    }
   ],
   "source": [
    "#!wget https://aulaglobal.uc3m.es/pluginfile.php/7354849/mod_assign/introattachment/0/tripdata_2017-01.csv?forcedownload=1 -o tripdata_2017-01.csv\n",
    "!wget https://d37ci6vzurychx.cloudfront.net/misc/taxi_zone_lookup.csv -O /home/jovyan/data/taxi_zone_lookup.csv\n",
    "!wget https://d37ci6vzurychx.cloudfront.net/trip-data/yellow_tripdata_2024-07.parquet -O /home/jovyan/data/yellow_tripdata_2024-07.parquet"
   ]
  },
  {
   "cell_type": "markdown",
   "id": "3e90b6dd",
   "metadata": {
    "id": "3e90b6dd"
   },
   "source": [
    "#### Load data"
   ]
  },
  {
   "cell_type": "code",
   "execution_count": 80,
   "id": "a6e37b47",
   "metadata": {
    "colab": {
     "base_uri": "https://localhost:8080/"
    },
    "id": "a6e37b47",
    "outputId": "5308b797-ecdb-4584-de95-3ec7d39289b1"
   },
   "outputs": [
    {
     "name": "stdout",
     "output_type": "stream",
     "text": [
      "+----------+-------------+--------------------+------------+\n",
      "|LocationID|      Borough|                Zone|service_zone|\n",
      "+----------+-------------+--------------------+------------+\n",
      "|         1|          EWR|      Newark Airport|         EWR|\n",
      "|         2|       Queens|         Jamaica Bay|   Boro Zone|\n",
      "|         3|        Bronx|Allerton/Pelham G...|   Boro Zone|\n",
      "|         4|    Manhattan|       Alphabet City| Yellow Zone|\n",
      "|         5|Staten Island|       Arden Heights|   Boro Zone|\n",
      "|         6|Staten Island|Arrochar/Fort Wad...|   Boro Zone|\n",
      "|         7|       Queens|             Astoria|   Boro Zone|\n",
      "|         8|       Queens|        Astoria Park|   Boro Zone|\n",
      "|         9|       Queens|          Auburndale|   Boro Zone|\n",
      "|        10|       Queens|        Baisley Park|   Boro Zone|\n",
      "|        11|     Brooklyn|          Bath Beach|   Boro Zone|\n",
      "|        12|    Manhattan|        Battery Park| Yellow Zone|\n",
      "|        13|    Manhattan|   Battery Park City| Yellow Zone|\n",
      "|        14|     Brooklyn|           Bay Ridge|   Boro Zone|\n",
      "|        15|       Queens|Bay Terrace/Fort ...|   Boro Zone|\n",
      "|        16|       Queens|             Bayside|   Boro Zone|\n",
      "|        17|     Brooklyn|             Bedford|   Boro Zone|\n",
      "|        18|        Bronx|        Bedford Park|   Boro Zone|\n",
      "|        19|       Queens|           Bellerose|   Boro Zone|\n",
      "|        20|        Bronx|             Belmont|   Boro Zone|\n",
      "+----------+-------------+--------------------+------------+\n",
      "only showing top 20 rows\n",
      "\n"
     ]
    }
   ],
   "source": [
    "zone_map = spark.read.format(\"csv\").option(\"inferSchema\", \"true\").option(\"header\", \"true\").option(\"mode\", \"DROPMALFORMED\").load(\"/home/jovyan/data/taxi_zone_lookup.csv\")\n",
    "zone_map.show()\n",
    "zone_map: dict[int, list[str]] = zone_map.toPandas().set_index('LocationID').T.to_dict('list')"
   ]
  },
  {
   "cell_type": "code",
   "execution_count": 81,
   "id": "8bd01268",
   "metadata": {
    "colab": {
     "base_uri": "https://localhost:8080/"
    },
    "id": "8bd01268",
    "outputId": "ff5f5812-cda4-473b-e760-ae56bbc5f187"
   },
   "outputs": [
    {
     "name": "stdout",
     "output_type": "stream",
     "text": [
      "root\n",
      " |-- VendorID: integer (nullable = true)\n",
      " |-- tpep_pickup_datetime: timestamp_ntz (nullable = true)\n",
      " |-- tpep_dropoff_datetime: timestamp_ntz (nullable = true)\n",
      " |-- passenger_count: long (nullable = true)\n",
      " |-- trip_distance: double (nullable = true)\n",
      " |-- RatecodeID: long (nullable = true)\n",
      " |-- store_and_fwd_flag: string (nullable = true)\n",
      " |-- PULocationID: integer (nullable = true)\n",
      " |-- DOLocationID: integer (nullable = true)\n",
      " |-- payment_type: long (nullable = true)\n",
      " |-- fare_amount: double (nullable = true)\n",
      " |-- extra: double (nullable = true)\n",
      " |-- mta_tax: double (nullable = true)\n",
      " |-- tip_amount: double (nullable = true)\n",
      " |-- tolls_amount: double (nullable = true)\n",
      " |-- improvement_surcharge: double (nullable = true)\n",
      " |-- total_amount: double (nullable = true)\n",
      " |-- congestion_surcharge: double (nullable = true)\n",
      " |-- Airport_fee: double (nullable = true)\n",
      "\n",
      "+--------+--------------------+---------------------+---------------+-------------+----------+------------------+------------+------------+------------+-----------+-----+-------+----------+------------+---------------------+------------+--------------------+-----------+\n",
      "|VendorID|tpep_pickup_datetime|tpep_dropoff_datetime|passenger_count|trip_distance|RatecodeID|store_and_fwd_flag|PULocationID|DOLocationID|payment_type|fare_amount|extra|mta_tax|tip_amount|tolls_amount|improvement_surcharge|total_amount|congestion_surcharge|Airport_fee|\n",
      "+--------+--------------------+---------------------+---------------+-------------+----------+------------------+------------+------------+------------+-----------+-----+-------+----------+------------+---------------------+------------+--------------------+-----------+\n",
      "|       1| 2024-07-01 00:34:56|  2024-07-01 00:46:49|              1|          3.2|         1|                 N|         140|          79|           1|       15.6|  3.5|    0.5|       3.5|         0.0|                  1.0|        24.1|                 2.5|        0.0|\n",
      "|       2| 2024-06-30 23:48:58|  2024-07-01 00:28:04|              1|        19.48|         2|                 N|         132|         113|           2|       70.0|  0.0|    0.5|       0.0|         0.0|                  1.0|       75.75|                 2.5|       1.75|\n",
      "|       2| 2024-07-01 00:23:18|  2024-07-01 00:29:51|              1|         1.18|         1|                 N|         237|         145|           1|        8.6|  1.0|    0.5|      2.72|         0.0|                  1.0|       16.32|                 2.5|        0.0|\n",
      "|       1| 2024-07-01 00:10:33|  2024-07-01 00:27:31|              0|          9.1|         1|                 N|         138|         164|           1|       36.6|10.25|    0.5|     12.05|         0.0|                  1.0|        60.4|                 2.5|       1.75|\n",
      "|       1| 2024-07-01 00:07:55|  2024-07-01 00:34:34|              1|         17.7|         2|                 N|         132|         263|           1|       70.0| 1.75|    0.5|      10.0|        6.94|                  1.0|       90.19|                 0.0|       1.75|\n",
      "+--------+--------------------+---------------------+---------------+-------------+----------+------------------+------------+------------+------------+-----------+-----+-------+----------+------------+---------------------+------------+--------------------+-----------+\n",
      "only showing top 5 rows\n",
      "\n"
     ]
    }
   ],
   "source": [
    "# df = spark.read.format(\"csv\").option(\"inferSchema\", \"true\").option(\"timestampFormat\",\"yyyy-MM-dd HH:mm:ss\").option(\"header\", \"true\").option(\"mode\", \"DROPMALFORMED\").load(\"data/tripdata_2017-01.csv\")\n",
    "df = spark.read.format(\"parquet\").option(\"inferSchema\", \"true\").option(\"timestampFormat\",\"yyyy-MM-dd HH:mm:ss\").option(\"header\", \"true\").option(\"mode\", \"DROPMALFORMED\").load(\"/home/jovyan/data/yellow_tripdata_2024-07.parquet\")\n",
    "df.printSchema()\n",
    "df.show(5)"
   ]
  },
  {
   "cell_type": "markdown",
   "id": "d9e58a29",
   "metadata": {
    "id": "d9e58a29"
   },
   "source": [
    "## Data preprocessing"
   ]
  },
  {
   "cell_type": "code",
   "execution_count": 82,
   "id": "6iBYNJXRSGc0",
   "metadata": {
    "colab": {
     "base_uri": "https://localhost:8080/"
    },
    "id": "6iBYNJXRSGc0",
    "outputId": "42f03179-0931-4485-adbb-83bf1b5f3369"
   },
   "outputs": [
    {
     "name": "stdout",
     "output_type": "stream",
     "text": [
      "+--------+--------------------+---------------------+---------------+-------------+----------+------------------+------------+------------+------------+-----------+-----+-------+----------+------------+---------------------+------------+--------------------+-----------+\n",
      "|VendorID|tpep_pickup_datetime|tpep_dropoff_datetime|passenger_count|trip_distance|RatecodeID|store_and_fwd_flag|PULocationID|DOLocationID|payment_type|fare_amount|extra|mta_tax|tip_amount|tolls_amount|improvement_surcharge|total_amount|congestion_surcharge|Airport_fee|\n",
      "+--------+--------------------+---------------------+---------------+-------------+----------+------------------+------------+------------+------------+-----------+-----+-------+----------+------------+---------------------+------------+--------------------+-----------+\n",
      "|       1|          1719808496|           1719809209|              1|          3.2|         1|                 N|         140|          79|           1|       15.6|  3.5|    0.5|       3.5|         0.0|                  1.0|        24.1|                 2.5|        0.0|\n",
      "|       2|          1719805738|           1719808084|              1|        19.48|         2|                 N|         132|         113|           2|       70.0|  0.0|    0.5|       0.0|         0.0|                  1.0|       75.75|                 2.5|       1.75|\n",
      "|       2|          1719807798|           1719808191|              1|         1.18|         1|                 N|         237|         145|           1|        8.6|  1.0|    0.5|      2.72|         0.0|                  1.0|       16.32|                 2.5|        0.0|\n",
      "|       1|          1719807033|           1719808051|              0|          9.1|         1|                 N|         138|         164|           1|       36.6|10.25|    0.5|     12.05|         0.0|                  1.0|        60.4|                 2.5|       1.75|\n",
      "|       1|          1719806875|           1719808474|              1|         17.7|         2|                 N|         132|         263|           1|       70.0| 1.75|    0.5|      10.0|        6.94|                  1.0|       90.19|                 0.0|       1.75|\n",
      "+--------+--------------------+---------------------+---------------+-------------+----------+------------------+------------+------------+------------+-----------+-----+-------+----------+------------+---------------------+------------+--------------------+-----------+\n",
      "only showing top 5 rows\n",
      "\n"
     ]
    }
   ],
   "source": [
    "# Conversion a unix timestamp:\n",
    "\n",
    "# Definir la zona horaria\n",
    "zona_horaria = \"America/New_York\"\n",
    "\n",
    "# Considerando zona horaria:\n",
    "df = df.withColumn(\"tpep_pickup_datetime\", to_utc_timestamp(col(\"tpep_pickup_datetime\"), zona_horaria))\n",
    "# Convertir la columna 'tpep_pickup_datetime' a timestamp de Unix\n",
    "df = df.withColumn(\"tpep_pickup_datetime\", unix_timestamp(col(\"tpep_pickup_datetime\")).cast(\"long\"))\n",
    "\n",
    "# Considerando zona horaria:\n",
    "df = df.withColumn(\"tpep_dropoff_datetime\", to_utc_timestamp(col(\"tpep_dropoff_datetime\"), zona_horaria))\n",
    "# Convertir la columna 'tpep_dropoff_datetime' a timestamp de Unix\n",
    "df = df.withColumn(\"tpep_dropoff_datetime\", unix_timestamp(col(\"tpep_dropoff_datetime\")).cast(\"long\"))\n",
    "\n",
    "df.show(5)"
   ]
  },
  {
   "cell_type": "markdown",
   "id": "iKzBbiXXZS4m",
   "metadata": {
    "id": "iKzBbiXXZS4m"
   },
   "source": [
    "Ahora se eliman filas con valores nulos importantes que no se pueden sustituir"
   ]
  },
  {
   "cell_type": "code",
   "execution_count": 87,
   "id": "5sLr6wG9amiM",
   "metadata": {
    "colab": {
     "base_uri": "https://localhost:8080/"
    },
    "id": "5sLr6wG9amiM",
    "outputId": "a3b91078-5c75-4109-9637-c794d9d2dd39"
   },
   "outputs": [
    {
     "name": "stdout",
     "output_type": "stream",
     "text": [
      "Número total de filas en el DataFrame: 2612531\n"
     ]
    }
   ],
   "source": [
    "# Contar el número total de filas\n",
    "numero_filas = df.count()\n",
    "\n",
    "# Mostrar el resultado\n",
    "print(f\"Número total de filas en el DataFrame: {numero_filas}\")"
   ]
  },
  {
   "cell_type": "code",
   "execution_count": 89,
   "id": "nTNUPzhyZbbr",
   "metadata": {
    "colab": {
     "base_uri": "https://localhost:8080/"
    },
    "id": "nTNUPzhyZbbr",
    "outputId": "85080de9-0645-45cd-8a4d-1538c2a02e0e"
   },
   "outputs": [
    {
     "name": "stdout",
     "output_type": "stream",
     "text": [
      "Número total de filas en el DataFrame: 2612531\n"
     ]
    }
   ],
   "source": [
    "df = df.dropna(subset=[\"VendorID\"]) #Se eliminan filas con el número de VendorID nulo\n",
    "df = df.dropna(subset=[\"tpep_pickup_datetime\"]) #Se eliminan filas con el número de tpep_pickup_datetime nulo\n",
    "df = df.dropna(subset=[\"tpep_dropoff_datetime\"]) #Se eliminan filas con el número de tpep_dropoff_datetime nulo\n",
    "\n",
    "# Eliminar filas donde 'passenger_count' sea '0'\n",
    "df = df.filter(df.passenger_count != 0)\n",
    "\n",
    "# Eliminar filas donde 'trip_distance' sea '0.0'\n",
    "df = df.filter(df.trip_distance != 0)\n",
    "\n",
    "# Eliminar filas donde 'tpep_pickup_datetime' es igual a 'tpep_dropoff_datetime'\n",
    "df = df.filter(df.tpep_pickup_datetime != df.tpep_dropoff_datetime)\n",
    "\n",
    "# Eliminar filas donde 'VendorID' no es 1 o 2:\n",
    "df = df.filter(df.VendorID.isin([1,2]))\n",
    "\n",
    "# Eliminar filas donde 'extra' no es mayor de 0\n",
    "df = df.filter(df.extra >= 0)\n",
    "\n",
    "# Eliminar filas donde 'store_and_fwd_flag' no es \"N\" o \"Y\":\n",
    "df = df.filter(df.store_and_fwd_flag.isin([\"N\",\"Y\"]))\n",
    "\n",
    "# Eliminar filas donde 'RatecodeID' no esta entre 1 y 6:\n",
    "df = df.filter(df.RatecodeID.isin([1,2,3,4,5,6]))\n",
    "\n",
    "# Eliminar filas donde 'payment_type' no esta entre 1 y 6:\n",
    "df = df.filter(df.payment_type.isin([1,2,3,4,5,6]))\n",
    "\n",
    "# Eliminar filas donde 'mta_tax' no sea 0.5\n",
    "df = df.filter(df.mta_tax == 0.5)\n",
    "\n",
    "# Eliminar filas donde 'improvement_surcharge' no sea mayor a 0\n",
    "df = df.filter((df.improvement_surcharge >= 0))\n",
    "\n",
    "# Los siguientes se pueden/deben modificar dependiendo de que queramos\n",
    "\n",
    "# Eliminar filas donde 'fare_amount' no este entre 0 y 100\n",
    "df = df.filter((df.fare_amount >= 0) & (df.fare_amount <= 100))\n",
    "\n",
    "\n",
    "# Eliminar filas donde 'tip_amount' no este entre 0 y 100\n",
    "df = df.filter((df.tip_amount >= 0) & (df.tip_amount <= 100))\n",
    "\n",
    "\n",
    "# Eliminar filas donde 'tolls_amount' no este entre 0 y 100\n",
    "df = df.filter((df.tolls_amount >= 0) & (df.tolls_amount <= 100))\n",
    "\n",
    "# Contar el número total de filas\n",
    "numero_filas = df.count()\n",
    "# Mostrar el resultado\n",
    "print(f\"Número total de filas en el DataFrame: {numero_filas}\")"
   ]
  },
  {
   "cell_type": "code",
   "execution_count": 54,
   "id": "BokJhhNHw97-",
   "metadata": {
    "colab": {
     "base_uri": "https://localhost:8080/"
    },
    "id": "BokJhhNHw97-",
    "outputId": "267711dd-40ac-44a6-ba5e-6ccdf1562e0b"
   },
   "outputs": [
    {
     "name": "stdout",
     "output_type": "stream",
     "text": [
      "+-------+------------------+------------------+\n",
      "|summary|             extra|          VendorID|\n",
      "+-------+------------------+------------------+\n",
      "|  count|           3076903|           3076903|\n",
      "|   mean|1.4012155501814643| 1.766744678009024|\n",
      "| stddev|1.8369829384668346|0.4229034581079079|\n",
      "|    min|              -7.5|                 1|\n",
      "|    max|             16.19|                 2|\n",
      "+-------+------------------+------------------+\n",
      "\n"
     ]
    }
   ],
   "source": [
    "df.describe().show()"
   ]
  },
  {
   "cell_type": "markdown",
   "id": "yPhmP-0AvlPh",
   "metadata": {
    "id": "yPhmP-0AvlPh"
   },
   "source": [
    "## Q1: Velocidad media de los taxis en función de la hora\n",
    "Usando RDDs."
   ]
  },
  {
   "cell_type": "markdown",
   "id": "KJqDGdmK3Azp",
   "metadata": {
    "id": "KJqDGdmK3Azp"
   },
   "source": [
    "Generamos la vista y el RDD."
   ]
  },
  {
   "cell_type": "code",
   "execution_count": 90,
   "id": "oCDQFftTvkxU",
   "metadata": {
    "id": "oCDQFftTvkxU"
   },
   "outputs": [],
   "source": [
    "df.createOrReplaceTempView(\"trips\")\n",
    "trips = df.select(['tpep_pickup_datetime', 'tpep_dropoff_datetime', 'trip_distance']).rdd"
   ]
  },
  {
   "cell_type": "markdown",
   "id": "S293Cio83Eds",
   "metadata": {
    "id": "S293Cio83Eds"
   },
   "source": [
    "Procesamos:\n",
    "1. **Map:** Transformamos las _entries_ (viajes) en tuplas `(<hora>, <velocidad_media>)`\n",
    "2. **Reduce:** Calculamos la media de las velocidades por cada hora\n",
    "3. **Sort:** Ordenamos las horas de 0 a 23"
   ]
  },
  {
   "cell_type": "code",
   "execution_count": 91,
   "id": "vXsGZ9cJ19lk",
   "metadata": {
    "id": "vXsGZ9cJ19lk"
   },
   "outputs": [],
   "source": [
    "# map & reduce\n",
    "trips_rdd = trips.map(lambda x: (datetime.fromtimestamp(x[0]).hour, (3600 * x[2]) / (x[1] - x[0]))).reduceByKey(lambda x,y: (x+y)/2).sortBy(lambda x: x[0], ascending=True)"
   ]
  },
  {
   "cell_type": "markdown",
   "id": "RmnuSmdi34jL",
   "metadata": {
    "id": "RmnuSmdi34jL"
   },
   "source": [
    "Transformamos los resultados en un DataFrame para generar la gráfica."
   ]
  },
  {
   "cell_type": "code",
   "execution_count": 92,
   "id": "RwktUy6D420r",
   "metadata": {
    "colab": {
     "base_uri": "https://localhost:8080/"
    },
    "id": "RwktUy6D420r",
    "outputId": "b929b1c2-3f6d-4f87-f6ef-0d90642fc525"
   },
   "outputs": [
    {
     "name": "stdout",
     "output_type": "stream",
     "text": [
      "+----+------------------+\n",
      "|hour|          mean_mph|\n",
      "+----+------------------+\n",
      "|   0| 12.01647328024778|\n",
      "|   1|15.454078090674269|\n",
      "|   2|16.504881222549216|\n",
      "|   3|12.469004545326507|\n",
      "|   4|20.992470230554947|\n",
      "|   5|13.146786025045477|\n",
      "|   6|19.011022117777365|\n",
      "|   7|18.114791476100876|\n",
      "|   8|19.859408122404307|\n",
      "|   9|6.8641647543845785|\n",
      "|  10| 2.871201757119056|\n",
      "|  11| 7.642465669608976|\n",
      "|  12| 9.404290582070804|\n",
      "|  13|  7.32327265199658|\n",
      "|  14| 5.778995747941229|\n",
      "|  15| 5.431271415485089|\n",
      "|  16| 7.720454508976537|\n",
      "|  17|  8.89299843482552|\n",
      "|  18| 8.258802757371239|\n",
      "|  19|10.770290390098152|\n",
      "|  20| 7.985171887132663|\n",
      "|  21| 6.815135551218004|\n",
      "|  22| 9.491468767224143|\n",
      "|  23|13.425754820252084|\n",
      "+----+------------------+\n",
      "\n"
     ]
    }
   ],
   "source": [
    "result = trips_rdd.toDF().withColumnRenamed(\"_1\", \"hour\").withColumnRenamed(\"_2\", \"mean_mph\")\n",
    "result.show(result.count())"
   ]
  },
  {
   "cell_type": "code",
   "execution_count": 104,
   "id": "gYhCm23B9TX8",
   "metadata": {
    "colab": {
     "base_uri": "https://localhost:8080/",
     "height": 475
    },
    "id": "gYhCm23B9TX8",
    "outputId": "97d9cd0b-79b9-457d-fa72-7404cce128b5"
   },
   "outputs": [
    {
     "data": {
      "image/png": "[encoded data removed]",
      "text/plain": [
       "<Figure size 640x480 with 1 Axes>"
      ]
     },
     "metadata": {},
     "output_type": "display_data"
    }
   ],
   "source": [
    "fig = result.toPandas().plot(\n",
    "    kind = \"bar\",\n",
    "    x = 'hour',\n",
    "    y = 'mean_mph',\n",
    "    ylabel = \"Velocidad media (mph)\",\n",
    "    xlabel = \"Hora del día\",\n",
    "    title = \"Velocidad media de los taxis en función de la hora\",\n",
    "    legend = False,\n",
    "    color = 'y'\n",
    ")\n",
    "fig.figure.savefig(\"/home/jovyan/output/q1.svg\")"
   ]
  },
  {
   "cell_type": "markdown",
   "id": "pVGhbPbexQmA",
   "metadata": {
    "id": "pVGhbPbexQmA"
   },
   "source": [
    "## Q2: Viajes en taxi más comunes"
   ]
  },
  {
   "cell_type": "markdown",
   "id": "AkR1AuEeJKV3",
   "metadata": {
    "id": "AkR1AuEeJKV3"
   },
   "source": [
    "### SQL"
   ]
  },
  {
   "cell_type": "code",
   "execution_count": 105,
   "id": "HhFJE_UixQ9j",
   "metadata": {
    "colab": {
     "base_uri": "https://localhost:8080/"
    },
    "id": "HhFJE_UixQ9j",
    "outputId": "ce1eb5c5-1233-4083-a8c0-22b69cd01289"
   },
   "outputs": [],
   "source": [
    "df.createOrReplaceTempView(\"trips\")\n",
    "trips = spark.sql(\"\"\"\n",
    "  SELECT PULocationID, DOLocationID, count('x') as count\n",
    "  FROM trips\n",
    "  WHERE NOT PULocationID = 264\n",
    "    AND NOT DOLocationID = 264\n",
    "  GROUP BY PULocationID, DOLocationID\n",
    "  SORT BY count DESC\n",
    "  \"\"\"\n",
    ")\n",
    "tic = perf_counter()\n",
    "result_sql = trips.head(10)\n",
    "time_sql = perf_counter() - tic"
   ]
  },
  {
   "cell_type": "markdown",
   "id": "-bcLbVKGJOx8",
   "metadata": {
    "id": "-bcLbVKGJOx8"
   },
   "source": [
    "### Pyspark SQL"
   ]
  },
  {
   "cell_type": "code",
   "execution_count": 106,
   "id": "FhRJUs8PJQts",
   "metadata": {
    "colab": {
     "base_uri": "https://localhost:8080/"
    },
    "id": "FhRJUs8PJQts",
    "outputId": "aa2ab185-f003-405c-d1ad-095c7a9d0583"
   },
   "outputs": [],
   "source": [
    "df.createOrReplaceTempView(\"trips\")\n",
    "trips = df.select(['PULocationID', 'DOLocationID']).where(\"NOT PULocationID = 264\").where(\"NOT DOLocationID = 264\").groupBy('PULocationID', 'DOLocationID').count().sort(desc('count'))\n",
    "\n",
    "tic = perf_counter()\n",
    "result_psql = trips.head(10)\n",
    "time_psql = perf_counter() - tic"
   ]
  },
  {
   "cell_type": "markdown",
   "id": "llX0LKbZJREU",
   "metadata": {
    "id": "llX0LKbZJREU"
   },
   "source": [
    "### RDD"
   ]
  },
  {
   "cell_type": "code",
   "execution_count": 107,
   "id": "woJ8mJV4JSg5",
   "metadata": {
    "id": "woJ8mJV4JSg5"
   },
   "outputs": [],
   "source": [
    "df.createOrReplaceTempView(\"trips\")\n",
    "trips = df.select(['PULocationID', 'DOLocationID']).where(\"NOT PULocationID = 264\").where(\"NOT DOLocationID = 264\").rdd\n",
    "trips_rdd = trips.map(lambda x: ((x[0], x[1]), 1)).reduceByKey(lambda x,y: x+y)"
   ]
  },
  {
   "cell_type": "code",
   "execution_count": 108,
   "id": "s1ed_OCkLxCh",
   "metadata": {
    "colab": {
     "base_uri": "https://localhost:8080/"
    },
    "id": "s1ed_OCkLxCh",
    "outputId": "b2091f7d-53c7-49a7-a744-de20a9a9d067"
   },
   "outputs": [],
   "source": [
    "tic = perf_counter()\n",
    "result = trips_rdd.sortBy(lambda x: x[1], ascending=False).take(10)\n",
    "time_rdd = perf_counter() - tic\n",
    "\n",
    "result_rdd = [\n",
    "    (trip[0], trip[1], count)\n",
    "    for trip, count in result\n",
    "]"
   ]
  },
  {
   "cell_type": "markdown",
   "id": "GikMpSF7AwGt",
   "metadata": {
    "id": "GikMpSF7AwGt"
   },
   "source": [
    "#### Resultados"
   ]
  },
  {
   "cell_type": "code",
   "execution_count": 109,
   "id": "SBwMwI7qM_kl",
   "metadata": {
    "colab": {
     "base_uri": "https://localhost:8080/"
    },
    "id": "SBwMwI7qM_kl",
    "outputId": "9c0335bd-1652-4d2b-9adf-f0a528a505ab"
   },
   "outputs": [
    {
     "name": "stdout",
     "output_type": "stream",
     "text": [
      "Upper East Side South -> Upper East Side North: 15607\n",
      "Upper East Side North -> Upper East Side South: 12701\n",
      "Upper East Side South -> Upper East Side South: 11114\n",
      "Upper East Side North -> Upper East Side North: 9546\n",
      "Midtown Center -> Upper East Side South: 9404\n",
      "Upper East Side South -> Midtown Center: 8467\n",
      "Upper East Side South -> Midtown East: 8000\n",
      "Midtown Center -> Upper East Side North: 7874\n",
      "JFK Airport -> Times Sq/Theatre District: 7458\n",
      "Upper East Side North -> Midtown Center: 6635\n"
     ]
    }
   ],
   "source": [
    "assert result_sql == result_psql == result_rdd  # ensure same results\n",
    "\n",
    "# sacar resultados\n",
    "for pu, do, count in result_rdd:\n",
    "    print(f\"{zone_map[pu][1]} -> {zone_map[do][1]}: {count}\")"
   ]
  },
  {
   "cell_type": "markdown",
   "id": "VqNP8KJpCZKp",
   "metadata": {
    "id": "VqNP8KJpCZKp"
   },
   "source": [
    "#### Eficiencia"
   ]
  },
  {
   "cell_type": "code",
   "execution_count": 110,
   "id": "oUnTHwtgCYx6",
   "metadata": {
    "colab": {
     "base_uri": "https://localhost:8080/",
     "height": 504
    },
    "id": "oUnTHwtgCYx6",
    "outputId": "8191484f-fad2-4c66-e972-1143146644ee"
   },
   "outputs": [
    {
     "data": {
      "image/png": "[encoded data removed]",
      "text/plain": [
       "<Figure size 640x480 with 1 Axes>"
      ]
     },
     "metadata": {},
     "output_type": "display_data"
    },
    {
     "name": "stdout",
     "output_type": "stream",
     "text": [
      "SQL: 3.6783557050002855\n",
      "PSQL: 3.5239208809998672\n",
      "RDD: 7.448505157999989\n"
     ]
    }
   ],
   "source": [
    "fig = plt.figure()\n",
    "plt.bar(\n",
    "    [\"SQL\", \"Pyspark SQL\", \"RDD\"],\n",
    "    [time_sql, time_psql, time_rdd],\n",
    "    color='y'\n",
    ")\n",
    "plt.plot()\n",
    "plt.ylabel(\"Tiempo (s)\")\n",
    "plt.title(\"Comparativa de la eficiencia de Q2\")\n",
    "plt.show()\n",
    "\n",
    "print(f\"SQL: {time_sql}\")\n",
    "print(f\"PSQL: {time_psql}\")\n",
    "print(f\"RDD: {time_rdd}\")\n",
    "\n",
    "fig.savefig('/home/jovyan/output/q2_perf.svg')"
   ]
  },
  {
   "cell_type": "markdown",
   "id": "L9gCtbMSyB3l",
   "metadata": {
    "id": "L9gCtbMSyB3l"
   },
   "source": [
    "## Q3: Porcentaje de propina por número de pasajeros"
   ]
  },
  {
   "cell_type": "code",
   "execution_count": 111,
   "id": "m8wK6fSQyCEs",
   "metadata": {
    "colab": {
     "base_uri": "https://localhost:8080/"
    },
    "id": "m8wK6fSQyCEs",
    "outputId": "1d1b1f93-475e-4679-f68f-1a988a4f166c"
   },
   "outputs": [
    {
     "name": "stdout",
     "output_type": "stream",
     "text": [
      "+---------------+-------------------+\n",
      "|passenger_count|             avg(p)|\n",
      "+---------------+-------------------+\n",
      "|              1|0.12272298750501527|\n",
      "|              2|0.11737468562235147|\n",
      "|              3| 0.1092009212713045|\n",
      "|              4|0.09854396831660817|\n",
      "|              5|0.12004119258222846|\n",
      "|              6|0.12114629672810764|\n",
      "|              7|0.16668346266250125|\n",
      "|              8|0.12382452615636343|\n",
      "+---------------+-------------------+\n",
      "\n"
     ]
    }
   ],
   "source": [
    "df.createOrReplaceTempView(\"trips\")\n",
    "trips = df.select(['passenger_count', 'tip_amount', 'total_amount'])\n",
    "result = trips.select('passenger_count', try_divide(df['tip_amount'], df['total_amount']).alias(\"p\")).groupBy('passenger_count').avg('p').sort(asc('passenger_count'))\n",
    "result.show()\n",
    "result = result.toPandas()"
   ]
  },
  {
   "cell_type": "code",
   "execution_count": 112,
   "id": "HXoBMA-xIkh6",
   "metadata": {
    "colab": {
     "base_uri": "https://localhost:8080/",
     "height": 468
    },
    "id": "HXoBMA-xIkh6",
    "outputId": "b5125f0c-3f68-44bd-b354-84c15d5e2a2d"
   },
   "outputs": [
    {
     "data": {
      "image/png": "[encoded data removed]",
      "text/plain": [
       "<Figure size 640x480 with 1 Axes>"
      ]
     },
     "metadata": {},
     "output_type": "display_data"
    }
   ],
   "source": [
    "result.loc[:, 'avg(p)'] *= 100  # multiply avg by 100\n",
    "fig = result.plot(\n",
    "    kind = \"bar\",\n",
    "    x = 'passenger_count',\n",
    "    y = 'avg(p)',\n",
    "    ylabel = \"Propina media (%)\",\n",
    "    xlabel = \"Número de pasajeros\",\n",
    "    title = \"Porcentaje de propina por número de pasajeros\",\n",
    "    legend = False,\n",
    "    ylim = (0, 15),\n",
    "    color = 'y'\n",
    ")\n",
    "fig.figure.savefig(\"/home/jovyan/output/q3.svg\")"
   ]
  }
 ],
 "metadata": {
  "colab": {
   "collapsed_sections": [
    "OqoneEg0uoFf"
   ],
   "provenance": []
  },
  "kernelspec": {
   "display_name": "Python 3 (ipykernel)",
   "language": "python",
   "name": "python3"
  },
  "language_info": {
   "codemirror_mode": {
    "name": "ipython",
    "version": 3
   },
   "file_extension": ".py",
   "mimetype": "text/x-python",
   "name": "python",
   "nbconvert_exporter": "python",
   "pygments_lexer": "ipython3",
   "version": "3.12.7"
  }
 },
 "nbformat": 4,
 "nbformat_minor": 5
}
