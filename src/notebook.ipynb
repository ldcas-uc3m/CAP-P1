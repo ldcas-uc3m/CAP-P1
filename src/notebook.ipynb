{
  "cells": [
    {
      "cell_type": "markdown",
      "id": "ac250a4d",
      "metadata": {
        "id": "ac250a4d"
      },
      "source": [
        "# Práctica 1: Procesamiento de datos mediante Apache Spark\n",
        "By Luis Daniel Casais Mezquida, Lucas Gallego Bravo, Francisco Montañés de Lucas & Diego Picazo García  \n",
        "\n",
        "Computación de Altas Prestaciones 24/25  \n",
        "Máster en Ingeniería Informática, Universidad Carlos III de Madrid"
      ]
    },
    {
      "cell_type": "markdown",
      "id": "67008b72",
      "metadata": {
        "id": "67008b72"
      },
      "source": [
        "## Setup"
      ]
    },
    {
      "cell_type": "markdown",
      "id": "f6e6133d",
      "metadata": {
        "id": "f6e6133d"
      },
      "source": [
        "### Pyspark"
      ]
    },
    {
      "cell_type": "code",
      "execution_count": null,
      "id": "0abe4add-b05f-4019-8ec4-718ea3c77c00",
      "metadata": {
        "colab": {
          "base_uri": "https://localhost:8080/"
        },
        "id": "0abe4add-b05f-4019-8ec4-718ea3c77c00",
        "outputId": "7a15e9ff-d5e8-48a9-8b3d-62c22ddc9c23"
      },
      "outputs": [],
      "source": [
        "from pyspark.sql import SparkSession\n",
        "from pyspark import SparkContext, SparkConf\n",
        "from pyspark.sql.functions import unix_timestamp, col, to_utc_timestamp, from_utc_timestamp, when, try_divide, asc, desc\n",
        "\n",
        "\n",
        "spark = SparkSession.builder.master('local[2]').getOrCreate()\n",
        "#spark.conf.set('spark.cores.max', '1')\n",
        "#spark.conf.set('spark.driver.memory','1000M')\n",
        "\n",
        "sc = spark.sparkContext\n",
        "\n",
        "!pip install psutil\n",
        "from psutil import virtual_memory\n",
        "print(f\"Your runtime has {virtual_memory().total / 1e9:.1f} GiB of RAM, {spark.sparkContext.defaultParallelism} cores\")"
      ]
    },
    {
      "cell_type": "markdown",
      "id": "gG6_G0ly2N9a",
      "metadata": {
        "id": "gG6_G0ly2N9a"
      },
      "source": [
        "### Import libraries"
      ]
    },
    {
      "cell_type": "code",
      "execution_count": 17,
      "id": "RihpaP_q2UU4",
      "metadata": {
        "id": "RihpaP_q2UU4"
      },
      "outputs": [],
      "source": [
        "from datetime import datetime\n",
        "import matplotlib.pyplot as plt\n",
        "from time import perf_counter"
      ]
    },
    {
      "cell_type": "markdown",
      "id": "d8e86f33",
      "metadata": {
        "id": "d8e86f33"
      },
      "source": [
        "#### Download data"
      ]
    },
    {
      "cell_type": "code",
      "execution_count": null,
      "id": "c0fc7da5",
      "metadata": {
        "colab": {
          "base_uri": "https://localhost:8080/"
        },
        "id": "c0fc7da5",
        "outputId": "88b8fc90-93d5-453a-add8-90c55eaca0fe"
      },
      "outputs": [],
      "source": [
        "#!wget https://aulaglobal.uc3m.es/pluginfile.php/7354849/mod_assign/introattachment/0/tripdata_2017-01.csv?forcedownload=1 -o tripdata_2017-01.csv\n",
        "!wget https://d37ci6vzurychx.cloudfront.net/misc/taxi_zone_lookup.csv -O data/taxi_zone_lookup.csv\n",
        "!wget https://d37ci6vzurychx.cloudfront.net/trip-data/yellow_tripdata_2024-07.parquet -O data/yellow_tripdata_2024-07.parquet"
      ]
    },
    {
      "cell_type": "markdown",
      "id": "3e90b6dd",
      "metadata": {
        "id": "3e90b6dd"
      },
      "source": [
        "#### Load data"
      ]
    },
    {
      "cell_type": "code",
      "execution_count": null,
      "id": "a6e37b47",
      "metadata": {
        "colab": {
          "base_uri": "https://localhost:8080/"
        },
        "id": "a6e37b47",
        "outputId": "5308b797-ecdb-4584-de95-3ec7d39289b1"
      },
      "outputs": [],
      "source": [
        "zone_map = spark.read.format(\"csv\").option(\"inferSchema\", \"true\").option(\"header\", \"true\").option(\"mode\", \"DROPMALFORMED\").load(\"data/taxi_zone_lookup.csv\")\n",
        "zone_map.show()\n",
        "\n",
        "zone_map: dict[int, list[str]] = zone_map.toPandas().set_index('LocationID').T.to_dict('list')"
      ]
    },
    {
      "cell_type": "code",
      "execution_count": null,
      "id": "8bd01268",
      "metadata": {
        "colab": {
          "base_uri": "https://localhost:8080/"
        },
        "id": "8bd01268",
        "outputId": "ff5f5812-cda4-473b-e760-ae56bbc5f187"
      },
      "outputs": [],
      "source": [
        "# df = spark.read.format(\"csv\").option(\"inferSchema\", \"true\").option(\"timestampFormat\",\"yyyy-MM-dd HH:mm:ss\").option(\"header\", \"true\").option(\"mode\", \"DROPMALFORMED\").load(\"data/tripdata_2017-01.csv\")\n",
        "df = spark.read.format(\"parquet\").option(\"inferSchema\", \"true\").option(\"timestampFormat\",\"yyyy-MM-dd HH:mm:ss\").option(\"header\", \"true\").option(\"mode\", \"DROPMALFORMED\").load(\"data/yellow_tripdata_2024-07.parquet\")\n",
        "df.printSchema()\n",
        "df.show(5)"
      ]
    },
    {
      "cell_type": "markdown",
      "id": "d9e58a29",
      "metadata": {
        "id": "d9e58a29"
      },
      "source": [
        "## Data preprocessing"
      ]
    },
    {
      "cell_type": "code",
      "execution_count": null,
      "id": "6iBYNJXRSGc0",
      "metadata": {
        "colab": {
          "base_uri": "https://localhost:8080/"
        },
        "id": "6iBYNJXRSGc0",
        "outputId": "42f03179-0931-4485-adbb-83bf1b5f3369"
      },
      "outputs": [],
      "source": [
        "# Conversion a unix timestamp:\n",
        "\n",
        "# Definir la zona horaria\n",
        "zona_horaria = \"America/New_York\"\n",
        "\n",
        "# Considerando zona horaria:\n",
        "df = df.withColumn(\"tpep_pickup_datetime\", to_utc_timestamp(col(\"tpep_pickup_datetime\"), zona_horaria))\n",
        "# Convertir la columna 'tpep_pickup_datetime' a timestamp de Unix\n",
        "df = df.withColumn(\"tpep_pickup_datetime\", unix_timestamp(col(\"tpep_pickup_datetime\")).cast(\"long\"))\n",
        "\n",
        "# Considerando zona horaria:\n",
        "df = df.withColumn(\"tpep_dropoff_datetime\", to_utc_timestamp(col(\"tpep_dropoff_datetime\"), zona_horaria))\n",
        "# Convertir la columna 'tpep_dropoff_datetime' a timestamp de Unix\n",
        "df = df.withColumn(\"tpep_dropoff_datetime\", unix_timestamp(col(\"tpep_dropoff_datetime\")).cast(\"long\"))\n",
        "\n",
        "df.show(5)"
      ]
    },
    {
      "cell_type": "markdown",
      "id": "iKzBbiXXZS4m",
      "metadata": {
        "id": "iKzBbiXXZS4m"
      },
      "source": [
        "Ahora se eliman filas con valores nulos importantes que no se pueden sustituir"
      ]
    },
    {
      "cell_type": "code",
      "execution_count": null,
      "id": "5sLr6wG9amiM",
      "metadata": {
        "colab": {
          "base_uri": "https://localhost:8080/"
        },
        "id": "5sLr6wG9amiM",
        "outputId": "a3b91078-5c75-4109-9637-c794d9d2dd39"
      },
      "outputs": [],
      "source": [
        "# Contar el número total de filas\n",
        "numero_filas = df.count()\n",
        "\n",
        "# Mostrar el resultado\n",
        "print(f\"Número total de filas en el DataFrame: {numero_filas}\")"
      ]
    },
    {
      "cell_type": "code",
      "execution_count": null,
      "id": "nTNUPzhyZbbr",
      "metadata": {
        "colab": {
          "base_uri": "https://localhost:8080/"
        },
        "id": "nTNUPzhyZbbr",
        "outputId": "85080de9-0645-45cd-8a4d-1538c2a02e0e"
      },
      "outputs": [],
      "source": [
        "df = df.dropna(subset=[\"VendorID\"]) #Se eliminan filas con el número de VendorID nulo\n",
        "df = df.dropna(subset=[\"tpep_pickup_datetime\"]) #Se eliminan filas con el número de tpep_pickup_datetime nulo\n",
        "df = df.dropna(subset=[\"tpep_dropoff_datetime\"]) #Se eliminan filas con el número de tpep_dropoff_datetime nulo\n",
        "\n",
        "# Eliminar filas donde 'passenger_count' sea '0'\n",
        "df = df.filter(df.passenger_count != 0)\n",
        "# Eliminar filas donde 'trip_distance' sea '0.0'\n",
        "df = df.filter(df.trip_distance != 0)\n",
        "# Eliminar filas donde 'extra' no este entre 0.5 y 1\n",
        "df = df.filter((df.extra >= 0.5) & (df.extra <= 1))\n",
        "# Eliminar filas donde 'tpep_pickup_datetime' es igual a 'tpep_dropoff_datetime'\n",
        "df = df.filter(df.tpep_pickup_datetime != df.tpep_dropoff_datetime)\n",
        "# Eliminar filas donde 'VendorID' no es 1 o 2:\n",
        "df = df.filter(df.VendorID.isin([1,2]))\n",
        "# Eliminar filas donde 'store_and_fwd_flag' no es \"N\" o \"Y\":\n",
        "df = df.filter(df.store_and_fwd_flag.isin([\"N\",\"Y\"]))\n",
        "# Eliminar filas donde 'RatecodeID' no esta entre 1 y 6:\n",
        "df = df.filter(df.RatecodeID.isin([1,2,3,4,5,6]))\n",
        "# Eliminar filas donde 'payment_type' no esta entre 1 y 6:\n",
        "df = df.filter(df.payment_type.isin([1,2,3,4,5,6]))\n",
        "# Eliminar filas donde 'mta_tax' no sea 0.5\n",
        "df = df.filter(df.mta_tax == 0.5)\n",
        "# Eliminar filas donde 'improvement_surcharge' no este entre 0 y 0.3\n",
        "df = df.filter((df.improvement_surcharge >= 0) & (df.improvement_surcharge <= 0.3))\n",
        "\n",
        "# Los siguientes se pueden/deben modificar dependiendo de que queramos\n",
        "\n",
        "# Eliminar filas donde 'fare_amount' no este entre 0 y 100\n",
        "df = df.filter((df.fare_amount >= 0) & (df.fare_amount <= 100))\n",
        "\n",
        "\n",
        "# Eliminar filas donde 'tip_amount' no este entre 0 y 100\n",
        "df = df.filter((df.tip_amount >= 0) & (df.tip_amount <= 100))\n",
        "\n",
        "\n",
        "# Eliminar filas donde 'tolls_amount' no este entre 0 y 100\n",
        "df = df.filter((df.tolls_amount >= 0) & (df.tolls_amount <= 100))\n",
        "\n",
        "\n",
        "# Contar el número total de filas\n",
        "numero_filas = df.count()\n",
        "# Mostrar el resultado\n",
        "print(f\"Número total de filas en el DataFrame: {numero_filas}\")"
      ]
    },
    {
      "cell_type": "code",
      "execution_count": null,
      "id": "BokJhhNHw97-",
      "metadata": {
        "colab": {
          "base_uri": "https://localhost:8080/"
        },
        "id": "BokJhhNHw97-",
        "outputId": "267711dd-40ac-44a6-ba5e-6ccdf1562e0b"
      },
      "outputs": [],
      "source": [
        "df.describe().show()"
      ]
    },
    {
      "cell_type": "markdown",
      "id": "yPhmP-0AvlPh",
      "metadata": {
        "id": "yPhmP-0AvlPh"
      },
      "source": [
        "## Q1: Velocidad media de los taxis en función de la hora\n",
        "Usando RDDs."
      ]
    },
    {
      "cell_type": "markdown",
      "id": "KJqDGdmK3Azp",
      "metadata": {
        "id": "KJqDGdmK3Azp"
      },
      "source": [
        "Generamos la vista y el RDD."
      ]
    },
    {
      "cell_type": "code",
      "execution_count": 12,
      "id": "oCDQFftTvkxU",
      "metadata": {
        "id": "oCDQFftTvkxU"
      },
      "outputs": [],
      "source": [
        "df.createOrReplaceTempView(\"trips\")\n",
        "trips = df.select(['tpep_pickup_datetime', 'tpep_dropoff_datetime', 'trip_distance']).rdd"
      ]
    },
    {
      "cell_type": "markdown",
      "id": "S293Cio83Eds",
      "metadata": {
        "id": "S293Cio83Eds"
      },
      "source": [
        "Procesamos:\n",
        "1. **Map:** Transformamos las _entries_ (viajes) en tuplas `(<hora>, <velocidad_media>)`\n",
        "2. **Reduce:** Calculamos la media de las velocidades por cada hora\n",
        "3. **Sort:** Ordenamos las horas de 0 a 23"
      ]
    },
    {
      "cell_type": "code",
      "execution_count": 15,
      "id": "vXsGZ9cJ19lk",
      "metadata": {
        "id": "vXsGZ9cJ19lk"
      },
      "outputs": [],
      "source": [
        "# map & reduce\n",
        "trips_rdd = trips.map(lambda x: (datetime.fromtimestamp(x[0]).hour, (3600 * x[2]) / (x[1] - x[0]))).reduceByKey(lambda x,y: (x+y)/2).sortBy(lambda x: x[0], ascending=True)"
      ]
    },
    {
      "cell_type": "markdown",
      "id": "RmnuSmdi34jL",
      "metadata": {
        "id": "RmnuSmdi34jL"
      },
      "source": [
        "Transformamos los resultados en un DataFrame para generar la gráfica."
      ]
    },
    {
      "cell_type": "code",
      "execution_count": null,
      "id": "RwktUy6D420r",
      "metadata": {
        "colab": {
          "base_uri": "https://localhost:8080/"
        },
        "id": "RwktUy6D420r",
        "outputId": "b929b1c2-3f6d-4f87-f6ef-0d90642fc525"
      },
      "outputs": [],
      "source": [
        "result = trips_rdd.toDF().withColumnRenamed(\"_1\", \"hour\").withColumnRenamed(\"_2\", \"mean_mph\")\n",
        "result.show(result.count())"
      ]
    },
    {
      "cell_type": "code",
      "execution_count": null,
      "id": "gYhCm23B9TX8",
      "metadata": {
        "colab": {
          "base_uri": "https://localhost:8080/",
          "height": 475
        },
        "id": "gYhCm23B9TX8",
        "outputId": "97d9cd0b-79b9-457d-fa72-7404cce128b5"
      },
      "outputs": [],
      "source": [
        "fig = result.toPandas().plot(\n",
        "    kind = \"bar\",\n",
        "    x = 'hour',\n",
        "    y = 'mean_mph',\n",
        "    ylabel = \"Velocidad media (mph)\",\n",
        "    xlabel = \"Hora del día\",\n",
        "    title = \"Velocidad media de los taxis en función de la hora\",\n",
        "    legend = False,\n",
        "    color = 'y'\n",
        ")\n",
        "fig.figure.savefig(\"report/img/q1.svg\")"
      ]
    },
    {
      "cell_type": "markdown",
      "id": "pVGhbPbexQmA",
      "metadata": {
        "id": "pVGhbPbexQmA"
      },
      "source": [
        "## Q2: Viajes en taxi más comunes"
      ]
    },
    {
      "cell_type": "markdown",
      "id": "AkR1AuEeJKV3",
      "metadata": {
        "id": "AkR1AuEeJKV3"
      },
      "source": [
        "### SQL"
      ]
    },
    {
      "cell_type": "code",
      "execution_count": null,
      "id": "HhFJE_UixQ9j",
      "metadata": {
        "colab": {
          "base_uri": "https://localhost:8080/"
        },
        "id": "HhFJE_UixQ9j",
        "outputId": "ce1eb5c5-1233-4083-a8c0-22b69cd01289"
      },
      "outputs": [],
      "source": [
        "df.createOrReplaceTempView(\"trips\")\n",
        "trips = spark.sql(\"\"\"\n",
        "  SELECT PULocationID, DOLocationID, count('x') as count\n",
        "  FROM trips\n",
        "  WHERE NOT PULocationID = 264\n",
        "    AND NOT DOLocationID = 264\n",
        "  GROUP BY PULocationID, DOLocationID\n",
        "  SORT BY count DESC\n",
        "  \"\"\"\n",
        ")\n",
        "tic = perf_counter()\n",
        "result_sql = trips.head(10)\n",
        "time_sql = perf_counter() - tic"
      ]
    },
    {
      "cell_type": "markdown",
      "id": "-bcLbVKGJOx8",
      "metadata": {
        "id": "-bcLbVKGJOx8"
      },
      "source": [
        "### Pyspark SQL"
      ]
    },
    {
      "cell_type": "code",
      "execution_count": null,
      "id": "FhRJUs8PJQts",
      "metadata": {
        "colab": {
          "base_uri": "https://localhost:8080/"
        },
        "id": "FhRJUs8PJQts",
        "outputId": "aa2ab185-f003-405c-d1ad-095c7a9d0583"
      },
      "outputs": [],
      "source": [
        "df.createOrReplaceTempView(\"trips\")\n",
        "trips = df.select(['PULocationID', 'DOLocationID']).where(\"NOT PULocationID = 264\").where(\"NOT DOLocationID = 264\").groupBy('PULocationID', 'DOLocationID').count().sort(desc('count'))\n",
        "\n",
        "tic = perf_counter()\n",
        "result_psql = trips.head(10)\n",
        "time_psql = perf_counter() - tic"
      ]
    },
    {
      "cell_type": "markdown",
      "id": "llX0LKbZJREU",
      "metadata": {
        "id": "llX0LKbZJREU"
      },
      "source": [
        "### RDD"
      ]
    },
    {
      "cell_type": "code",
      "execution_count": 59,
      "id": "woJ8mJV4JSg5",
      "metadata": {
        "id": "woJ8mJV4JSg5"
      },
      "outputs": [],
      "source": [
        "df.createOrReplaceTempView(\"trips\")\n",
        "trips = df.select(['PULocationID', 'DOLocationID']).where(\"NOT PULocationID = 264\").where(\"NOT DOLocationID = 264\").rdd\n",
        "trips_rdd = trips.map(lambda x: ((x[0], x[1]), 1)).reduceByKey(lambda x,y: x+y)"
      ]
    },
    {
      "cell_type": "code",
      "execution_count": null,
      "id": "s1ed_OCkLxCh",
      "metadata": {
        "colab": {
          "base_uri": "https://localhost:8080/"
        },
        "id": "s1ed_OCkLxCh",
        "outputId": "b2091f7d-53c7-49a7-a744-de20a9a9d067"
      },
      "outputs": [],
      "source": [
        "tic = perf_counter()\n",
        "result = trips_rdd.sortBy(lambda x: x[1], ascending=False).take(10)\n",
        "time_rdd = perf_counter() - tic\n",
        "\n",
        "result_rdd = [\n",
        "    (trip[0], trip[1], count)\n",
        "    for trip, count in result\n",
        "]"
      ]
    },
    {
      "cell_type": "markdown",
      "id": "GikMpSF7AwGt",
      "metadata": {
        "id": "GikMpSF7AwGt"
      },
      "source": [
        "#### Resultados"
      ]
    },
    {
      "cell_type": "code",
      "execution_count": null,
      "id": "SBwMwI7qM_kl",
      "metadata": {
        "colab": {
          "base_uri": "https://localhost:8080/"
        },
        "id": "SBwMwI7qM_kl",
        "outputId": "9c0335bd-1652-4d2b-9adf-f0a528a505ab"
      },
      "outputs": [],
      "source": [
        "assert result_sql == result_psql == result_rdd  # ensure same results\n",
        "\n",
        "# sacar resultados\n",
        "for pu, do, count in result_rdd:\n",
        "    print(f\"{zone_map[pu][1]} -> {zone_map[do][1]}: {count}\")"
      ]
    },
    {
      "cell_type": "markdown",
      "id": "VqNP8KJpCZKp",
      "metadata": {
        "id": "VqNP8KJpCZKp"
      },
      "source": [
        "#### Eficiencia"
      ]
    },
    {
      "cell_type": "code",
      "execution_count": null,
      "id": "oUnTHwtgCYx6",
      "metadata": {
        "colab": {
          "base_uri": "https://localhost:8080/",
          "height": 504
        },
        "id": "oUnTHwtgCYx6",
        "outputId": "8191484f-fad2-4c66-e972-1143146644ee"
      },
      "outputs": [],
      "source": [
        "fig = plt.figure()\n",
        "plt.bar(\n",
        "    [\"SQL\", \"Pyspark SQL\", \"RDD\"],\n",
        "    [time_sql, time_psql, time_rdd],\n",
        "    color='y'\n",
        ")\n",
        "plt.plot()\n",
        "plt.ylabel(\"Tiempo (s)\")\n",
        "plt.title(\"Comparativa de la eficiencia de Q2\")\n",
        "plt.show()\n",
        "\n",
        "print(f\"SQL: {time_sql}\")\n",
        "print(f\"PSQL: {time_psql}\")\n",
        "print(f\"RDD: {time_rdd}\")\n",
        "\n",
        "fig.savefig('report/img/q2_perf.svg')"
      ]
    },
    {
      "cell_type": "markdown",
      "id": "L9gCtbMSyB3l",
      "metadata": {
        "id": "L9gCtbMSyB3l"
      },
      "source": [
        "## Q3: Porcentaje de propina por número de pasajeros"
      ]
    },
    {
      "cell_type": "code",
      "execution_count": null,
      "id": "m8wK6fSQyCEs",
      "metadata": {
        "colab": {
          "base_uri": "https://localhost:8080/"
        },
        "id": "m8wK6fSQyCEs",
        "outputId": "1d1b1f93-475e-4679-f68f-1a988a4f166c"
      },
      "outputs": [],
      "source": [
        "df.createOrReplaceTempView(\"trips\")\n",
        "trips = df.select(['passenger_count', 'tip_amount', 'total_amount'])\n",
        "result = trips.select('passenger_count', try_divide(df['tip_amount'], df['total_amount']).alias(\"p\")).groupBy('passenger_count').avg('p').sort(asc('passenger_count'))\n",
        "result.show()\n",
        "result = result.toPandas()"
      ]
    },
    {
      "cell_type": "code",
      "execution_count": null,
      "id": "HXoBMA-xIkh6",
      "metadata": {
        "colab": {
          "base_uri": "https://localhost:8080/",
          "height": 468
        },
        "id": "HXoBMA-xIkh6",
        "outputId": "b5125f0c-3f68-44bd-b354-84c15d5e2a2d"
      },
      "outputs": [],
      "source": [
        "result.loc[:, 'avg(p)'] *= 100  # multiply avg by 100\n",
        "fig = result.plot(\n",
        "    kind = \"bar\",\n",
        "    x = 'passenger_count',\n",
        "    y = 'avg(p)',\n",
        "    ylabel = \"Propina media (%)\",\n",
        "    xlabel = \"Número de pasajeros\",\n",
        "    title = \"Porcentaje de propina por número de pasajeros\",\n",
        "    legend = False,\n",
        "    ylim = (0, 15),\n",
        "    color = 'y'\n",
        ")\n",
        "fig.figure.savefig(\"report/img/q3.svg\")"
      ]
    }
  ],
  "metadata": {
    "colab": {
      "collapsed_sections": [
        "OqoneEg0uoFf"
      ],
      "provenance": []
    },
    "kernelspec": {
      "display_name": "Python 3 (ipykernel)",
      "language": "python",
      "name": "python3"
    },
    "language_info": {
      "codemirror_mode": {
        "name": "ipython",
        "version": 3
      },
      "file_extension": ".py",
      "mimetype": "text/x-python",
      "name": "python",
      "nbconvert_exporter": "python",
      "pygments_lexer": "ipython3",
      "version": "3.11.10"
    }
  },
  "nbformat": 4,
  "nbformat_minor": 5
}
